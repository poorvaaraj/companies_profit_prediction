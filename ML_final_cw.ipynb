{
 "cells": [
  {
   "cell_type": "markdown",
   "id": "1b6ab7b8",
   "metadata": {},
   "source": [
    "# Student ID: 000997514\n",
    "# Poorva suresh Araj"
   ]
  },
  {
   "cell_type": "code",
   "execution_count": 1,
   "id": "611f007c",
   "metadata": {},
   "outputs": [],
   "source": [
    "# Importing the libraries\n",
    "import numpy as np\n",
    "import matplotlib.pyplot as plt\n",
    "import pandas as pd\n",
    "import seaborn as sns\n",
    "%matplotlib inline"
   ]
  },
  {
   "cell_type": "code",
   "execution_count": 2,
   "id": "982c8b57",
   "metadata": {},
   "outputs": [],
   "source": [
    "companies = pd.read_csv('companies_data.csv')\n"
   ]
  },
  {
   "cell_type": "code",
   "execution_count": 3,
   "id": "5d59ffab",
   "metadata": {},
   "outputs": [
    {
     "data": {
      "text/html": [
       "<div>\n",
       "<style scoped>\n",
       "    .dataframe tbody tr th:only-of-type {\n",
       "        vertical-align: middle;\n",
       "    }\n",
       "\n",
       "    .dataframe tbody tr th {\n",
       "        vertical-align: top;\n",
       "    }\n",
       "\n",
       "    .dataframe thead th {\n",
       "        text-align: right;\n",
       "    }\n",
       "</style>\n",
       "<table border=\"1\" class=\"dataframe\">\n",
       "  <thead>\n",
       "    <tr style=\"text-align: right;\">\n",
       "      <th></th>\n",
       "      <th>R&amp;D Spend</th>\n",
       "      <th>Administration</th>\n",
       "      <th>Marketing Spend</th>\n",
       "      <th>State</th>\n",
       "      <th>Profit</th>\n",
       "    </tr>\n",
       "  </thead>\n",
       "  <tbody>\n",
       "    <tr>\n",
       "      <th>0</th>\n",
       "      <td>165349.20</td>\n",
       "      <td>136897.80</td>\n",
       "      <td>471784.10</td>\n",
       "      <td>New York</td>\n",
       "      <td>192261.83</td>\n",
       "    </tr>\n",
       "    <tr>\n",
       "      <th>1</th>\n",
       "      <td>162597.70</td>\n",
       "      <td>151377.59</td>\n",
       "      <td>443898.53</td>\n",
       "      <td>California</td>\n",
       "      <td>191792.06</td>\n",
       "    </tr>\n",
       "    <tr>\n",
       "      <th>2</th>\n",
       "      <td>153441.51</td>\n",
       "      <td>101145.55</td>\n",
       "      <td>407934.54</td>\n",
       "      <td>Florida</td>\n",
       "      <td>191050.39</td>\n",
       "    </tr>\n",
       "    <tr>\n",
       "      <th>3</th>\n",
       "      <td>144372.41</td>\n",
       "      <td>118671.85</td>\n",
       "      <td>383199.62</td>\n",
       "      <td>New York</td>\n",
       "      <td>182901.99</td>\n",
       "    </tr>\n",
       "    <tr>\n",
       "      <th>4</th>\n",
       "      <td>142107.34</td>\n",
       "      <td>91391.77</td>\n",
       "      <td>366168.42</td>\n",
       "      <td>Florida</td>\n",
       "      <td>166187.94</td>\n",
       "    </tr>\n",
       "  </tbody>\n",
       "</table>\n",
       "</div>"
      ],
      "text/plain": [
       "   R&D Spend  Administration  Marketing Spend       State     Profit\n",
       "0  165349.20       136897.80        471784.10    New York  192261.83\n",
       "1  162597.70       151377.59        443898.53  California  191792.06\n",
       "2  153441.51       101145.55        407934.54     Florida  191050.39\n",
       "3  144372.41       118671.85        383199.62    New York  182901.99\n",
       "4  142107.34        91391.77        366168.42     Florida  166187.94"
      ]
     },
     "execution_count": 3,
     "metadata": {},
     "output_type": "execute_result"
    }
   ],
   "source": [
    "companies.head()\n"
   ]
  },
  {
   "cell_type": "code",
   "execution_count": 4,
   "id": "d4b36f51",
   "metadata": {},
   "outputs": [],
   "source": [
    "X = companies.iloc[:, :-1].values #every row except last column (Independent Variable)\n",
    "y = companies.iloc[:, 4].values #only last column (Dependent variable)"
   ]
  },
  {
   "cell_type": "code",
   "execution_count": 5,
   "id": "e848c93d",
   "metadata": {},
   "outputs": [
    {
     "data": {
      "text/plain": [
       "<AxesSubplot:>"
      ]
     },
     "execution_count": 5,
     "metadata": {},
     "output_type": "execute_result"
    },
    {
     "data": {
      "image/png": "[encoded data removed]",
      "text/plain": [
       "<Figure size 432x288 with 2 Axes>"
      ]
     },
     "metadata": {
      "needs_background": "light"
     },
     "output_type": "display_data"
    }
   ],
   "source": [
    "sns.heatmap(companies.corr())\n",
    "#Building correlation matrix and \n",
    "#seaborn recognizes panda df and uses method .corr() to present heatmap of correlations.\n"
   ]
  },
  {
   "cell_type": "code",
   "execution_count": 6,
   "id": "b4f0634b",
   "metadata": {},
   "outputs": [
    {
     "name": "stdout",
     "output_type": "stream",
     "text": [
      "<class 'pandas.core.frame.DataFrame'>\n",
      "RangeIndex: 1000 entries, 0 to 999\n",
      "Data columns (total 5 columns):\n",
      " #   Column           Non-Null Count  Dtype  \n",
      "---  ------           --------------  -----  \n",
      " 0   R&D Spend        1000 non-null   float64\n",
      " 1   Administration   1000 non-null   float64\n",
      " 2   Marketing Spend  1000 non-null   float64\n",
      " 3   State            1000 non-null   object \n",
      " 4   Profit           1000 non-null   float64\n",
      "dtypes: float64(4), object(1)\n",
      "memory usage: 39.2+ KB\n",
      "None\n"
     ]
    }
   ],
   "source": [
    "print(companies.info())"
   ]
  },
  {
   "cell_type": "code",
   "execution_count": 7,
   "id": "2d0f042c",
   "metadata": {},
   "outputs": [
    {
     "data": {
      "text/plain": [
       "0        New York\n",
       "1      California\n",
       "2         Florida\n",
       "3        New York\n",
       "4         Florida\n",
       "          ...    \n",
       "995    California\n",
       "996    California\n",
       "997    California\n",
       "998    California\n",
       "999      New York\n",
       "Name: State, Length: 1000, dtype: object"
      ]
     },
     "execution_count": 7,
     "metadata": {},
     "output_type": "execute_result"
    }
   ],
   "source": [
    "#state has dtype object \n",
    "companies['State']\n"
   ]
  },
  {
   "cell_type": "code",
   "execution_count": 8,
   "id": "10cc12c5",
   "metadata": {},
   "outputs": [
    {
     "data": {
      "text/plain": [
       "array(['New York', 'California', 'Florida'], dtype=object)"
      ]
     },
     "execution_count": 8,
     "metadata": {},
     "output_type": "execute_result"
    }
   ],
   "source": [
    "companies.State.unique()"
   ]
  },
  {
   "cell_type": "code",
   "execution_count": 9,
   "id": "0d119d26",
   "metadata": {},
   "outputs": [],
   "source": [
    "#Transforms categorical data as lm cannot process categorical values\n",
    "from sklearn.preprocessing import LabelEncoder, OneHotEncoder\n",
    "labelencoder = LabelEncoder() # Encoding categorical data\n",
    "\n",
    "X[:, 3] = labelencoder.fit_transform(X[:, 3]) #state\n"
   ]
  },
  {
   "cell_type": "code",
   "execution_count": 10,
   "id": "2fc46d44",
   "metadata": {},
   "outputs": [],
   "source": [
    "# = OneHotEncoder(categorical_features = [3])\n",
    "#X = onehotencoder.fit_transform(X).toarray()\n",
    "\n",
    "from sklearn.compose import ColumnTransformer\n",
    "ct = ColumnTransformer([('companies', OneHotEncoder(), [3])], remainder='passthrough')\n",
    "X = ct.fit_transform(X) #toarray()"
   ]
  },
  {
   "cell_type": "code",
   "execution_count": 11,
   "id": "5678c050",
   "metadata": {},
   "outputs": [],
   "source": [
    "#avoiding dummy variables\n",
    "X = X[:, 1:]\n"
   ]
  },
  {
   "cell_type": "code",
   "execution_count": 12,
   "id": "cf97cee2",
   "metadata": {},
   "outputs": [
    {
     "name": "stdout",
     "output_type": "stream",
     "text": [
      "[[0.0 1.0 165349.2 136897.8 471784.1]\n",
      " [0.0 0.0 162597.7 151377.59 443898.53]\n",
      " [1.0 0.0 153441.51 101145.55 407934.54]\n",
      " ...\n",
      " [0.0 0.0 100275.47 241926.31 227142.82]\n",
      " [0.0 0.0 128456.23 321652.14 281692.32]\n",
      " [0.0 1.0 161181.72 270939.86 295442.17]]\n"
     ]
    }
   ],
   "source": [
    "print(X)\n",
    "#we can see "
   ]
  },
  {
   "cell_type": "code",
   "execution_count": 13,
   "id": "32750967",
   "metadata": {},
   "outputs": [],
   "source": [
    "from sklearn.model_selection import train_test_split\n",
    "X_train, X_test, y_train, y_test = train_test_split(X, y, test_size = 0.2, random_state = 0)\n",
    "#20% of the data will be set aside for testing"
   ]
  },
  {
   "cell_type": "code",
   "execution_count": 14,
   "id": "9bad3cd6",
   "metadata": {},
   "outputs": [
    {
     "data": {
      "text/plain": [
       "200"
      ]
     },
     "execution_count": 14,
     "metadata": {},
     "output_type": "execute_result"
    }
   ],
   "source": [
    "len(y_test)"
   ]
  },
  {
   "cell_type": "code",
   "execution_count": 15,
   "id": "41dfd43f",
   "metadata": {},
   "outputs": [
    {
     "data": {
      "text/plain": [
       "LinearRegression()"
      ]
     },
     "execution_count": 15,
     "metadata": {},
     "output_type": "execute_result"
    }
   ],
   "source": [
    "from sklearn.linear_model import LinearRegression\n",
    "regressor_model = LinearRegression()\n",
    "regressor_model.fit(X_train, y_train)"
   ]
  },
  {
   "cell_type": "code",
   "execution_count": 16,
   "id": "874f7e2f",
   "metadata": {},
   "outputs": [
    {
     "data": {
      "text/plain": [
       "array([ 89790.61532916,  88427.07187362,  94894.67836972, 175680.86725609,\n",
       "        83411.73042089, 110571.90200074, 132145.22936441,  91473.37719687,\n",
       "       164597.05380605,  53222.82667402,  66950.19050991, 150566.43987004,\n",
       "       126915.20858596,  59337.85971051, 177513.9105306 ,  75316.28143052,\n",
       "       118248.14406603, 164574.40699901, 170937.28981069, 182069.11645083,\n",
       "       118845.03252689,  85669.95112229, 180992.59396142,  84145.08220145,\n",
       "       105005.83769214, 101233.56772747,  53831.07669092,  56881.41475225,\n",
       "        68896.39346906, 210040.00765882, 120778.72270894, 111724.87157655,\n",
       "       101487.90541518, 137959.02649623,  63969.95996744, 108857.91214127,\n",
       "       186014.72531986, 171442.64130746, 174644.26529203, 117671.49128195,\n",
       "        96731.37857434, 165452.25779408, 107724.34331255,  50194.54176915,\n",
       "       116513.89532179,  58632.48986822, 158416.46827609,  78541.4852161 ,\n",
       "       159727.66671743, 131137.87699644, 184880.70924515, 174609.08266879,\n",
       "        93745.66352059,  78341.13383419, 180745.90439079,  84461.61490553,\n",
       "       142900.90602902, 170618.44098396,  84365.0953084 , 105307.3716218 ,\n",
       "       141660.07290786,  52527.34340443, 141842.9626416 , 139176.27973194,\n",
       "        98294.52669667, 113586.86790969, 126754.21895489, 152135.51985561,\n",
       "        58864.51658956, 174285.57361128, 124624.04380783, 169065.77658977,\n",
       "        91279.3319821 , 156170.37268961,  84307.26579366,  77877.75223098,\n",
       "       120414.02421346,  93380.44273242, 139020.6251412 , 143604.67103572,\n",
       "       171148.30815367, 140082.97050131, 106369.71689747, 155641.43851387,\n",
       "       140030.10330036, 110172.87893525,  69672.98677566,  88148.52068042,\n",
       "       140133.59925093, 148479.09537887, 157916.63505256,  58532.94863142,\n",
       "        93707.38422391, 112646.37475705,  56556.18943661, 107414.89996181,\n",
       "       147352.80227752, 152144.10104033, 167808.11701783, 118750.25230713,\n",
       "       120763.27666701, 139029.95295662, 157527.90934118, 121962.0621496 ,\n",
       "        87091.32399737, 104792.91384334,  95335.22679186, 178389.52287435,\n",
       "       181942.6377638 , 109831.34945507, 165254.03344095, 167806.06491901,\n",
       "       158002.44642543, 174782.86900955, 170196.77102698,  52302.18161613,\n",
       "       176938.11595788, 104751.83583865,  82710.31528806, 138890.52767844,\n",
       "       144274.74675424, 161679.01836439, 169662.05445894, 120450.9231013 ,\n",
       "       158880.70799546, 110213.73252825, 169674.51532365,  60760.61300843,\n",
       "       159036.99629067, 158169.44286047, 174511.70494474, 156294.79927783,\n",
       "       103714.37583212,  85635.96237575, 141603.54878757, 165917.69156979,\n",
       "       121182.03641977, 170751.87883893, 100505.77549412,  82097.51033129,\n",
       "       178643.18879842, 101790.48384579,  70507.40958623,  90250.04230089,\n",
       "        61247.49962681,  68912.17534521,  72775.81613476, 176914.08873123,\n",
       "        89704.69244932, 129209.43730016,  92672.90938383,  88133.59175044,\n",
       "       172836.33021617,  60893.62070015, 169015.89446009, 166450.24453203,\n",
       "       165425.54476414, 102170.5169499 , 181594.57928215,  73702.57942562,\n",
       "        91267.42979669, 135791.54160195,  64922.80257301,  71775.70235727,\n",
       "        60603.91401516, 184288.61041914, 176286.69585944, 158907.75687038,\n",
       "       141359.32216438, 154611.1792832 ,  58549.58863234,  90618.58407899,\n",
       "       152885.51163924, 168398.05223804,  72485.3627454 , 116064.24350667,\n",
       "        80087.80697209, 149828.90896187, 116806.9595737 , 130191.4884516 ,\n",
       "       174534.42670327, 293584.45948282, 146270.83174788, 150646.69178013,\n",
       "        86107.47782248,  69967.20842247,  70096.78368774,  69033.6917077 ,\n",
       "       120666.75708063,  89677.68014064, 166824.27091661, 125514.76626409,\n",
       "        67209.67687467, 140930.69427701, 118544.30490695, 165897.61905905,\n",
       "       168655.48652551, 147009.66805048, 141396.22104146, 109086.50634849])"
      ]
     },
     "execution_count": 16,
     "metadata": {},
     "output_type": "execute_result"
    }
   ],
   "source": [
    "y_pred = regressor_model.predict(X_test)\n",
    "y_pred\n"
   ]
  },
  {
   "cell_type": "code",
   "execution_count": 17,
   "id": "b987db78",
   "metadata": {},
   "outputs": [
    {
     "data": {
      "text/plain": [
       "200"
      ]
     },
     "execution_count": 17,
     "metadata": {},
     "output_type": "execute_result"
    }
   ],
   "source": [
    "len(y_pred)"
   ]
  },
  {
   "cell_type": "code",
   "execution_count": 18,
   "id": "7d234b81",
   "metadata": {},
   "outputs": [
    {
     "name": "stdout",
     "output_type": "stream",
     "text": [
      "[-8.80536598e+02 -6.98169073e+02  5.25845857e-01  8.44390881e-01\n",
      "  1.07574255e-01]\n"
     ]
    }
   ],
   "source": [
    "#printing coefficients\n",
    "print(regressor_model.coef_)"
   ]
  },
  {
   "cell_type": "code",
   "execution_count": 19,
   "id": "f6d55564",
   "metadata": {},
   "outputs": [
    {
     "name": "stdout",
     "output_type": "stream",
     "text": [
      "-51035.2297240225\n"
     ]
    }
   ],
   "source": [
    "print(regressor_model.intercept_)"
   ]
  },
  {
   "cell_type": "code",
   "execution_count": 25,
   "id": "c0bd4c48",
   "metadata": {},
   "outputs": [
    {
     "data": {
      "text/plain": [
       "0.9112695892268747"
      ]
     },
     "execution_count": 25,
     "metadata": {},
     "output_type": "execute_result"
    }
   ],
   "source": [
    "#r squared value to predict how good model is\n",
    "from sklearn.metrics import r2_score\n",
    "#y test actual values and y pred predicted values\n",
    "r2_score(y_test,y_pred)"
   ]
  },
  {
   "cell_type": "code",
   "execution_count": 21,
   "id": "e5b655ca",
   "metadata": {},
   "outputs": [
    {
     "name": "stdout",
     "output_type": "stream",
     "text": [
      "mean squared error is:  192148061.81509155\n",
      "mean squared log error is:  0.0028183216074723805\n"
     ]
    }
   ],
   "source": [
    "from sklearn.metrics import mean_squared_error, mean_squared_log_error\n",
    "print('mean squared error is: ', mean_squared_error(y_pred, y_test))\n",
    "#msle = mean_squared_log_error(y_test, y_pred)\n",
    "print( 'mean squared log error is: ', mean_squared_log_error(y_test, y_pred))"
   ]
  },
  {
   "cell_type": "code",
   "execution_count": 22,
   "id": "1c83ee59",
   "metadata": {
    "scrolled": true
   },
   "outputs": [
    {
     "data": {
      "text/html": [
       "<div>\n",
       "<style scoped>\n",
       "    .dataframe tbody tr th:only-of-type {\n",
       "        vertical-align: middle;\n",
       "    }\n",
       "\n",
       "    .dataframe tbody tr th {\n",
       "        vertical-align: top;\n",
       "    }\n",
       "\n",
       "    .dataframe thead th {\n",
       "        text-align: right;\n",
       "    }\n",
       "</style>\n",
       "<table border=\"1\" class=\"dataframe\">\n",
       "  <thead>\n",
       "    <tr style=\"text-align: right;\">\n",
       "      <th></th>\n",
       "      <th>R&amp;D Spend</th>\n",
       "      <th>Administration</th>\n",
       "      <th>Marketing Spend</th>\n",
       "      <th>Profit</th>\n",
       "    </tr>\n",
       "  </thead>\n",
       "  <tbody>\n",
       "    <tr>\n",
       "      <th>count</th>\n",
       "      <td>1000.000000</td>\n",
       "      <td>1000.000000</td>\n",
       "      <td>1000.000000</td>\n",
       "      <td>1000.000000</td>\n",
       "    </tr>\n",
       "    <tr>\n",
       "      <th>mean</th>\n",
       "      <td>81668.927200</td>\n",
       "      <td>122963.897612</td>\n",
       "      <td>226205.058419</td>\n",
       "      <td>119546.164656</td>\n",
       "    </tr>\n",
       "    <tr>\n",
       "      <th>std</th>\n",
       "      <td>46537.567891</td>\n",
       "      <td>12613.927535</td>\n",
       "      <td>91578.393542</td>\n",
       "      <td>42888.633848</td>\n",
       "    </tr>\n",
       "    <tr>\n",
       "      <th>min</th>\n",
       "      <td>0.000000</td>\n",
       "      <td>51283.140000</td>\n",
       "      <td>0.000000</td>\n",
       "      <td>14681.400000</td>\n",
       "    </tr>\n",
       "    <tr>\n",
       "      <th>25%</th>\n",
       "      <td>43084.500000</td>\n",
       "      <td>116640.684850</td>\n",
       "      <td>150969.584600</td>\n",
       "      <td>85943.198543</td>\n",
       "    </tr>\n",
       "    <tr>\n",
       "      <th>50%</th>\n",
       "      <td>79936.000000</td>\n",
       "      <td>122421.612150</td>\n",
       "      <td>224517.887350</td>\n",
       "      <td>117641.466300</td>\n",
       "    </tr>\n",
       "    <tr>\n",
       "      <th>75%</th>\n",
       "      <td>124565.500000</td>\n",
       "      <td>129139.118000</td>\n",
       "      <td>308189.808525</td>\n",
       "      <td>155577.107425</td>\n",
       "    </tr>\n",
       "    <tr>\n",
       "      <th>max</th>\n",
       "      <td>165349.200000</td>\n",
       "      <td>321652.140000</td>\n",
       "      <td>471784.100000</td>\n",
       "      <td>476485.430000</td>\n",
       "    </tr>\n",
       "  </tbody>\n",
       "</table>\n",
       "</div>"
      ],
      "text/plain": [
       "           R&D Spend  Administration  Marketing Spend         Profit\n",
       "count    1000.000000     1000.000000      1000.000000    1000.000000\n",
       "mean    81668.927200   122963.897612    226205.058419  119546.164656\n",
       "std     46537.567891    12613.927535     91578.393542   42888.633848\n",
       "min         0.000000    51283.140000         0.000000   14681.400000\n",
       "25%     43084.500000   116640.684850    150969.584600   85943.198543\n",
       "50%     79936.000000   122421.612150    224517.887350  117641.466300\n",
       "75%    124565.500000   129139.118000    308189.808525  155577.107425\n",
       "max    165349.200000   321652.140000    471784.100000  476485.430000"
      ]
     },
     "execution_count": 22,
     "metadata": {},
     "output_type": "execute_result"
    }
   ],
   "source": [
    "companies.describe()"
   ]
  },
  {
   "cell_type": "code",
   "execution_count": 23,
   "id": "92444a87",
   "metadata": {},
   "outputs": [
    {
     "data": {
      "text/plain": [
       "array([117368.4374, 117133.7666, 118246.8651, 132302.0043, 116390.7656,\n",
       "       121065.1295, 127864.55, 117658.0468, 130363.0537, 111226.5321,\n",
       "       113437.5176, 127979.7204, 123757.7143, 112127.4079, 132465.9341,\n",
       "       114997.5096, 122417.6247, 130238.9987, 156547.42, 133370.059,\n",
       "       152701.92, 116659.2562, 133216.1717, 116396.8207, 119987.0323,\n",
       "       119337.8109, 124153.04, 111824.8023, 113772.4662, 151377.59,\n",
       "       122853.1464, 121143.4023, 119501.7408, 125809.9389, 112924.6091,\n",
       "       120649.9882, 134049.1125, 131572.5902, 132123.6013, 122318.3806,\n",
       "       118683.1253, 130390.08, 120454.8969, 110705.3533, 122119.1542,\n",
       "       112006.0112, 129330.7387, 115583.9649, 129556.4007, 124635.9944,\n",
       "       133885.3304, 132117.5463, 118049.1155, 115518.0976, 133142.3294,\n",
       "       116602.8407, 126660.4543, 131399.3563, 116554.8432, 120159.0848,\n",
       "       126446.9024, 111075.4508, 126326.8348, 125988.0465, 118831.9913,\n",
       "       121615.4022, 123850.1648, 128218.3786, 112166.1013, 132061.8692,\n",
       "       123363.3966, 131011.9797, 117776.1945, 128912.7914, 116424.7331,\n",
       "       115438.348, 122790.3805, 118106.4171, 125841.1003, 126630.0312,\n",
       "       131521.9344, 126023.9338, 120341.9182, 128701.6025, 126134.9926,\n",
       "       120996.4562, 113906.1207, 117205.9844, 126032.6472, 127589.0947,\n",
       "       129213.3295, 111988.8798, 118162.6849, 121453.5399, 111768.8298,\n",
       "       120521.798, 127426.6417, 128219.8555, 130915.6893, 122352.4958,\n",
       "       122850.4881, 125994.2492, 129146.4284, 123056.8034, 117024.037,\n",
       "       120101.9308, 118442.8425, 132736.7876, 133228.1341, 120937.6777,\n",
       "       130355.9649, 130795.1787, 129228.0979, 132116.0694, 131206.6279,\n",
       "       110916.5422, 132366.8378, 119943.3176, 116149.8921, 125938.8675,\n",
       "       126896.8972, 129892.2354, 131266.1448, 122796.7309, 129410.636,\n",
       "       120883.3298, 131236.9032, 112372.2689, 129285.9903, 129136.6812,\n",
       "       132069.4011, 128934.2057, 119764.767, 116773.564, 126285.6308,\n",
       "       130590.3403, 122922.5582, 148718.95, 119364.0988, 116195.9697,\n",
       "       132660.287, 119433.6582, 114169.8853, 117567.6639, 112576.2213,\n",
       "       113895.3397, 114591.6724, 132362.7026, 117505.1933, 157693.92,\n",
       "       118016.0342, 115641.28, 131660.9056, 112395.16, 131154.9383,\n",
       "       130561.8371, 130537.0261, 119650.6068, 133288.3894, 114751.1717,\n",
       "       117622.6025, 125285.3634, 113208.7542, 114388.1631, 112465.4579,\n",
       "       133783.428, 132406.2696, 129383.9051, 126363.756, 128644.4486,\n",
       "       112111.901, 117662.4774, 128347.4549, 131048.6054, 114510.2982,\n",
       "       122041.7675, 115850.0925, 127821.4025, 122138.2055, 124321.5739,\n",
       "       132104.6977, 270939.86, 127088.8871, 127962.1459, 116886.0996,\n",
       "       114108.3008, 114130.6012, 113796.0957, 122802.4906, 117469.1583,\n",
       "       130777.752, 123516.6931, 113602.3336, 99814.71, 122317.0515,\n",
       "       130466.7283, 131092.9108, 127216.0435, 126370.1064, 120809.4875],\n",
       "      dtype=object)"
      ]
     },
     "execution_count": 23,
     "metadata": {},
     "output_type": "execute_result"
    }
   ],
   "source": [
    "X_test[:,3]"
   ]
  },
  {
   "cell_type": "code",
   "execution_count": 24,
   "id": "8380749a",
   "metadata": {},
   "outputs": [
    {
     "data": {
      "image/png": "[encoded data removed]",
      "text/plain": [
       "<Figure size 432x288 with 1 Axes>"
      ]
     },
     "metadata": {
      "needs_background": "light"
     },
     "output_type": "display_data"
    }
   ],
   "source": [
    "plt.scatter(X_test[:,4], y_test, color = \"red\")\n",
    "plt.scatter(X_test[:,4], y_pred, color = \"blue\")\n",
    "plt.title(\"Comparison of actual values of Y and predicted values of Y\")\n",
    "plt.xlabel(\"Expenditure\")\n",
    "plt.ylabel(\"profit\")\n",
    "plt.show()\n",
    "#profits values of y tests and y predicted are overlapping, which concludes model is giving right predictions."
   ]
  },
  {
   "cell_type": "code",
   "execution_count": null,
   "id": "f33df61f",
   "metadata": {},
   "outputs": [],
   "source": []
  }
 ],
 "metadata": {
  "kernelspec": {
   "display_name": "Python 3 (ipykernel)",
   "language": "python",
   "name": "python3"
  },
  "language_info": {
   "codemirror_mode": {
    "name": "ipython",
    "version": 3
   },
   "file_extension": ".py",
   "mimetype": "text/x-python",
   "name": "python",
   "nbconvert_exporter": "python",
   "pygments_lexer": "ipython3",
   "version": "3.10.0"
  }
 },
 "nbformat": 4,
 "nbformat_minor": 5
}
